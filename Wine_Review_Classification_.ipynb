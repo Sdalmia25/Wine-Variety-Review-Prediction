{
  "nbformat": 4,
  "nbformat_minor": 0,
  "metadata": {
    "colab": {
      "name": "Wine_Review_Classification .ipynb",
      "provenance": [],
      "collapsed_sections": [],
      "toc_visible": true
    },
    "kernelspec": {
      "display_name": "Python 3",
      "language": "python",
      "name": "python3"
    },
    "language_info": {
      "codemirror_mode": {
        "name": "ipython",
        "version": 3
      },
      "file_extension": ".py",
      "mimetype": "text/x-python",
      "name": "python",
      "nbconvert_exporter": "python",
      "pygments_lexer": "ipython3",
      "version": "3.7.3"
    }
  },
  "cells": [
    {
      "cell_type": "markdown",
      "metadata": {
        "colab_type": "text",
        "id": "b174BAu2Kpmf"
      },
      "source": [
        "## Importing necessary libraries"
      ]
    },
    {
      "cell_type": "code",
      "metadata": {
        "colab_type": "code",
        "id": "_qoFytCzKigT",
        "outputId": "a87b7286-0d09-42fc-d291-550f6cbb0c0e",
        "colab": {
          "base_uri": "https://localhost:8080/",
          "height": 85
        }
      },
      "source": [
        "import pandas as pd\n",
        "from sklearn.preprocessing import LabelEncoder\n",
        "from nltk.stem import WordNetLemmatizer\n",
        "import nltk\n",
        "nltk.download('stopwords')\n",
        "nltk.download('wordnet')\n",
        "from sklearn.feature_extraction.text import TfidfVectorizer\n",
        "from nltk.tokenize.toktok import ToktokTokenizer\n",
        "from sklearn.model_selection import train_test_split\n",
        "from sklearn.ensemble import AdaBoostClassifier\n",
        "from sklearn.linear_model import LogisticRegression\n",
        "from sklearn.naive_bayes import MultinomialNB\n",
        "from sklearn.metrics import classification_report,confusion_matrix\n",
        "import matplotlib.pyplot as plt"
      ],
      "execution_count": 1,
      "outputs": [
        {
          "output_type": "stream",
          "text": [
            "[nltk_data] Downloading package stopwords to /root/nltk_data...\n",
            "[nltk_data]   Unzipping corpora/stopwords.zip.\n",
            "[nltk_data] Downloading package wordnet to /root/nltk_data...\n",
            "[nltk_data]   Unzipping corpora/wordnet.zip.\n"
          ],
          "name": "stdout"
        }
      ]
    },
    {
      "cell_type": "markdown",
      "metadata": {
        "colab_type": "text",
        "id": "-am_YWjLK1qq"
      },
      "source": [
        "## Loading data"
      ]
    },
    {
      "cell_type": "code",
      "metadata": {
        "colab_type": "code",
        "id": "3N2W9NCvxuGp",
        "colab": {}
      },
      "source": [
        "df_train=pd.read_csv(\"train.csv\")\n",
        "df_test=pd.read_csv(\"test.csv\")"
      ],
      "execution_count": 0,
      "outputs": []
    },
    {
      "cell_type": "markdown",
      "metadata": {
        "colab_type": "text",
        "id": "m65FLITBLgk6"
      },
      "source": [
        "## Analysing both datasets"
      ]
    },
    {
      "cell_type": "code",
      "metadata": {
        "colab_type": "code",
        "id": "US3muMeoLmh4",
        "outputId": "37a51fb7-51ea-4355-d8ea-11d74f74353a",
        "colab": {
          "base_uri": "https://localhost:8080/",
          "height": 513
        }
      },
      "source": [
        "df_train.head()"
      ],
      "execution_count": 3,
      "outputs": [
        {
          "output_type": "execute_result",
          "data": {
            "text/html": [
              "<div>\n",
              "<style scoped>\n",
              "    .dataframe tbody tr th:only-of-type {\n",
              "        vertical-align: middle;\n",
              "    }\n",
              "\n",
              "    .dataframe tbody tr th {\n",
              "        vertical-align: top;\n",
              "    }\n",
              "\n",
              "    .dataframe thead th {\n",
              "        text-align: right;\n",
              "    }\n",
              "</style>\n",
              "<table border=\"1\" class=\"dataframe\">\n",
              "  <thead>\n",
              "    <tr style=\"text-align: right;\">\n",
              "      <th></th>\n",
              "      <th>user_name</th>\n",
              "      <th>country</th>\n",
              "      <th>review_title</th>\n",
              "      <th>review_description</th>\n",
              "      <th>designation</th>\n",
              "      <th>points</th>\n",
              "      <th>price</th>\n",
              "      <th>province</th>\n",
              "      <th>region_1</th>\n",
              "      <th>region_2</th>\n",
              "      <th>winery</th>\n",
              "      <th>variety</th>\n",
              "    </tr>\n",
              "  </thead>\n",
              "  <tbody>\n",
              "    <tr>\n",
              "      <th>0</th>\n",
              "      <td>NaN</td>\n",
              "      <td>Australia</td>\n",
              "      <td>Andrew Peace 2007 Peace Family Vineyard Chardo...</td>\n",
              "      <td>Classic Chardonnay aromas of apple, pear and h...</td>\n",
              "      <td>Peace Family Vineyard</td>\n",
              "      <td>83</td>\n",
              "      <td>10.0</td>\n",
              "      <td>Australia Other</td>\n",
              "      <td>South Eastern Australia</td>\n",
              "      <td>NaN</td>\n",
              "      <td>Andrew Peace</td>\n",
              "      <td>Chardonnay</td>\n",
              "    </tr>\n",
              "    <tr>\n",
              "      <th>1</th>\n",
              "      <td>@wawinereport</td>\n",
              "      <td>US</td>\n",
              "      <td>North by Northwest 2014 Red (Columbia Valley (...</td>\n",
              "      <td>This wine is near equal parts Syrah and Merlot...</td>\n",
              "      <td>NaN</td>\n",
              "      <td>89</td>\n",
              "      <td>15.0</td>\n",
              "      <td>Washington</td>\n",
              "      <td>Columbia Valley (WA)</td>\n",
              "      <td>Columbia Valley</td>\n",
              "      <td>North by Northwest</td>\n",
              "      <td>Red Blend</td>\n",
              "    </tr>\n",
              "    <tr>\n",
              "      <th>2</th>\n",
              "      <td>NaN</td>\n",
              "      <td>Italy</td>\n",
              "      <td>Renato Ratti 2007 Conca  (Barolo)</td>\n",
              "      <td>Barolo Conca opens with inky dark concentratio...</td>\n",
              "      <td>Conca</td>\n",
              "      <td>94</td>\n",
              "      <td>80.0</td>\n",
              "      <td>Piedmont</td>\n",
              "      <td>Barolo</td>\n",
              "      <td>NaN</td>\n",
              "      <td>Renato Ratti</td>\n",
              "      <td>Nebbiolo</td>\n",
              "    </tr>\n",
              "    <tr>\n",
              "      <th>3</th>\n",
              "      <td>@vossroger</td>\n",
              "      <td>France</td>\n",
              "      <td>Domaine l'Ancienne Cure 2010 L'Abbaye White (B...</td>\n",
              "      <td>It's impressive what a small addition of Sauvi...</td>\n",
              "      <td>L'Abbaye</td>\n",
              "      <td>87</td>\n",
              "      <td>22.0</td>\n",
              "      <td>Southwest France</td>\n",
              "      <td>Bergerac Sec</td>\n",
              "      <td>NaN</td>\n",
              "      <td>Domaine l'Ancienne Cure</td>\n",
              "      <td>Bordeaux-style White Blend</td>\n",
              "    </tr>\n",
              "    <tr>\n",
              "      <th>4</th>\n",
              "      <td>@vossroger</td>\n",
              "      <td>France</td>\n",
              "      <td>Château du Cèdre 2012 Le Cèdre Vintage Malbec ...</td>\n",
              "      <td>This ripe, sweet wine is rich and full of drie...</td>\n",
              "      <td>Le Cèdre Vintage</td>\n",
              "      <td>88</td>\n",
              "      <td>33.0</td>\n",
              "      <td>France Other</td>\n",
              "      <td>Vin de Liqueur</td>\n",
              "      <td>NaN</td>\n",
              "      <td>Château du Cèdre</td>\n",
              "      <td>Malbec</td>\n",
              "    </tr>\n",
              "  </tbody>\n",
              "</table>\n",
              "</div>"
            ],
            "text/plain": [
              "       user_name  ...                     variety\n",
              "0            NaN  ...                  Chardonnay\n",
              "1  @wawinereport  ...                   Red Blend\n",
              "2            NaN  ...                    Nebbiolo\n",
              "3     @vossroger  ...  Bordeaux-style White Blend\n",
              "4     @vossroger  ...                      Malbec\n",
              "\n",
              "[5 rows x 12 columns]"
            ]
          },
          "metadata": {
            "tags": []
          },
          "execution_count": 3
        }
      ]
    },
    {
      "cell_type": "code",
      "metadata": {
        "colab_type": "code",
        "id": "Q5OWCMdyL06I",
        "outputId": "37331689-ef04-45d9-adad-a00aae9b05d4",
        "colab": {
          "base_uri": "https://localhost:8080/",
          "height": 357
        }
      },
      "source": [
        "df_train.info()\n",
        "print(len(df_train))"
      ],
      "execution_count": 4,
      "outputs": [
        {
          "output_type": "stream",
          "text": [
            "<class 'pandas.core.frame.DataFrame'>\n",
            "RangeIndex: 82657 entries, 0 to 82656\n",
            "Data columns (total 12 columns):\n",
            " #   Column              Non-Null Count  Dtype  \n",
            "---  ------              --------------  -----  \n",
            " 0   user_name           63264 non-null  object \n",
            " 1   country             82622 non-null  object \n",
            " 2   review_title        82657 non-null  object \n",
            " 3   review_description  82657 non-null  object \n",
            " 4   designation         59010 non-null  object \n",
            " 5   points              82657 non-null  int64  \n",
            " 6   price               77088 non-null  float64\n",
            " 7   province            82622 non-null  object \n",
            " 8   region_1            69903 non-null  object \n",
            " 9   region_2            35949 non-null  object \n",
            " 10  winery              82657 non-null  object \n",
            " 11  variety             82657 non-null  object \n",
            "dtypes: float64(1), int64(1), object(10)\n",
            "memory usage: 7.6+ MB\n",
            "82657\n"
          ],
          "name": "stdout"
        }
      ]
    },
    {
      "cell_type": "code",
      "metadata": {
        "colab_type": "code",
        "id": "GbJguPq5M3ll",
        "outputId": "1521f632-86d1-4f4d-8c62-84e798008ed3",
        "colab": {
          "base_uri": "https://localhost:8080/",
          "height": 340
        }
      },
      "source": [
        "df_test.info()\n",
        "print(len(df_test))"
      ],
      "execution_count": 5,
      "outputs": [
        {
          "output_type": "stream",
          "text": [
            "<class 'pandas.core.frame.DataFrame'>\n",
            "RangeIndex: 20665 entries, 0 to 20664\n",
            "Data columns (total 11 columns):\n",
            " #   Column              Non-Null Count  Dtype  \n",
            "---  ------              --------------  -----  \n",
            " 0   user_name           15927 non-null  object \n",
            " 1   country             20661 non-null  object \n",
            " 2   review_title        20665 non-null  object \n",
            " 3   review_description  20665 non-null  object \n",
            " 4   designation         14676 non-null  object \n",
            " 5   points              20665 non-null  int64  \n",
            " 6   price               19271 non-null  float64\n",
            " 7   province            20661 non-null  object \n",
            " 8   region_1            17351 non-null  object \n",
            " 9   region_2            8914 non-null   object \n",
            " 10  winery              20665 non-null  object \n",
            "dtypes: float64(1), int64(1), object(9)\n",
            "memory usage: 1.7+ MB\n",
            "20665\n"
          ],
          "name": "stdout"
        }
      ]
    },
    {
      "cell_type": "markdown",
      "metadata": {
        "colab_type": "text",
        "id": "6r40yaNCMrnX"
      },
      "source": [
        "Both 'review_description' and 'variety' columns in both the datasets does not contain null values"
      ]
    },
    {
      "cell_type": "code",
      "metadata": {
        "colab_type": "code",
        "id": "dqZ2O07sNZiu",
        "outputId": "32eb6648-9716-48e2-9497-72574e9d9d1e",
        "colab": {
          "base_uri": "https://localhost:8080/",
          "height": 34
        }
      },
      "source": [
        "df_train['variety'].nunique()"
      ],
      "execution_count": 6,
      "outputs": [
        {
          "output_type": "execute_result",
          "data": {
            "text/plain": [
              "28"
            ]
          },
          "metadata": {
            "tags": []
          },
          "execution_count": 6
        }
      ]
    },
    {
      "cell_type": "markdown",
      "metadata": {
        "colab_type": "text",
        "id": "qxBee3MiNii3"
      },
      "source": [
        "There are 28 types of wines "
      ]
    },
    {
      "cell_type": "code",
      "metadata": {
        "colab_type": "code",
        "id": "aC4BYd16L8Q8",
        "outputId": "e6c56b2b-2adb-4d40-9f67-478ce514a19c",
        "colab": {
          "base_uri": "https://localhost:8080/",
          "height": 510
        }
      },
      "source": [
        "df_train['variety'].value_counts()\n"
      ],
      "execution_count": 7,
      "outputs": [
        {
          "output_type": "execute_result",
          "data": {
            "text/plain": [
              "Pinot Noir                    10587\n",
              "Chardonnay                     9403\n",
              "Cabernet Sauvignon             7552\n",
              "Red Blend                      7166\n",
              "Bordeaux-style Red Blend       5497\n",
              "Riesling                       4148\n",
              "Sauvignon Blanc                4011\n",
              "Syrah                          3316\n",
              "Rosé                           2831\n",
              "Merlot                         2471\n",
              "Nebbiolo                       2242\n",
              "Zinfandel                      2209\n",
              "Sangiovese                     2165\n",
              "Malbec                         2119\n",
              "Portuguese Red                 1969\n",
              "White Blend                    1896\n",
              "Sparkling Blend                1739\n",
              "Tempranillo                    1448\n",
              "Rhône-style Red Blend          1182\n",
              "Pinot Gris                     1148\n",
              "Champagne Blend                1133\n",
              "Cabernet Franc                 1095\n",
              "Grüner Veltliner               1055\n",
              "Portuguese White                896\n",
              "Pinot Grigio                    873\n",
              "Bordeaux-style White Blend      850\n",
              "Gewürztraminer                  840\n",
              "Gamay                           816\n",
              "Name: variety, dtype: int64"
            ]
          },
          "metadata": {
            "tags": []
          },
          "execution_count": 7
        }
      ]
    },
    {
      "cell_type": "markdown",
      "metadata": {
        "colab_type": "text",
        "id": "OaKFzlgYN90a"
      },
      "source": [
        "'Pinot Noir' is appearing the most "
      ]
    },
    {
      "cell_type": "markdown",
      "metadata": {
        "colab_type": "text",
        "id": "YLS8R1L0cDFZ"
      },
      "source": [
        "## Statistical Data of Train Dataset"
      ]
    },
    {
      "cell_type": "code",
      "metadata": {
        "colab_type": "code",
        "id": "SGFlcTatcEjm",
        "outputId": "76892b39-757a-4800-e3ca-8b9ce15017f9",
        "colab": {
          "base_uri": "https://localhost:8080/",
          "height": 227
        }
      },
      "source": [
        "df_train[['user_name','country','review_title','review_description','designation','province', 'region_1','region_2', 'winery', 'variety']].describe()"
      ],
      "execution_count": 8,
      "outputs": [
        {
          "output_type": "execute_result",
          "data": {
            "text/html": [
              "<div>\n",
              "<style scoped>\n",
              "    .dataframe tbody tr th:only-of-type {\n",
              "        vertical-align: middle;\n",
              "    }\n",
              "\n",
              "    .dataframe tbody tr th {\n",
              "        vertical-align: top;\n",
              "    }\n",
              "\n",
              "    .dataframe thead th {\n",
              "        text-align: right;\n",
              "    }\n",
              "</style>\n",
              "<table border=\"1\" class=\"dataframe\">\n",
              "  <thead>\n",
              "    <tr style=\"text-align: right;\">\n",
              "      <th></th>\n",
              "      <th>user_name</th>\n",
              "      <th>country</th>\n",
              "      <th>review_title</th>\n",
              "      <th>review_description</th>\n",
              "      <th>designation</th>\n",
              "      <th>province</th>\n",
              "      <th>region_1</th>\n",
              "      <th>region_2</th>\n",
              "      <th>winery</th>\n",
              "      <th>variety</th>\n",
              "    </tr>\n",
              "  </thead>\n",
              "  <tbody>\n",
              "    <tr>\n",
              "      <th>count</th>\n",
              "      <td>63264</td>\n",
              "      <td>82622</td>\n",
              "      <td>82657</td>\n",
              "      <td>82657</td>\n",
              "      <td>59010</td>\n",
              "      <td>82622</td>\n",
              "      <td>69903</td>\n",
              "      <td>35949</td>\n",
              "      <td>82657</td>\n",
              "      <td>82657</td>\n",
              "    </tr>\n",
              "    <tr>\n",
              "      <th>unique</th>\n",
              "      <td>15</td>\n",
              "      <td>38</td>\n",
              "      <td>76983</td>\n",
              "      <td>77628</td>\n",
              "      <td>26424</td>\n",
              "      <td>358</td>\n",
              "      <td>1019</td>\n",
              "      <td>17</td>\n",
              "      <td>13786</td>\n",
              "      <td>28</td>\n",
              "    </tr>\n",
              "    <tr>\n",
              "      <th>top</th>\n",
              "      <td>@vossroger</td>\n",
              "      <td>US</td>\n",
              "      <td>Korbel NV Brut Sparkling (California)</td>\n",
              "      <td>This wine is smoky, ripe and packed with tanni...</td>\n",
              "      <td>Reserve</td>\n",
              "      <td>California</td>\n",
              "      <td>Napa Valley</td>\n",
              "      <td>Central Coast</td>\n",
              "      <td>Testarossa</td>\n",
              "      <td>Pinot Noir</td>\n",
              "    </tr>\n",
              "    <tr>\n",
              "      <th>freq</th>\n",
              "      <td>17539</td>\n",
              "      <td>38573</td>\n",
              "      <td>8</td>\n",
              "      <td>2</td>\n",
              "      <td>1382</td>\n",
              "      <td>25736</td>\n",
              "      <td>3334</td>\n",
              "      <td>7503</td>\n",
              "      <td>175</td>\n",
              "      <td>10587</td>\n",
              "    </tr>\n",
              "  </tbody>\n",
              "</table>\n",
              "</div>"
            ],
            "text/plain": [
              "         user_name country  ...      winery     variety\n",
              "count        63264   82622  ...       82657       82657\n",
              "unique          15      38  ...       13786          28\n",
              "top     @vossroger      US  ...  Testarossa  Pinot Noir\n",
              "freq         17539   38573  ...         175       10587\n",
              "\n",
              "[4 rows x 10 columns]"
            ]
          },
          "metadata": {
            "tags": []
          },
          "execution_count": 8
        }
      ]
    },
    {
      "cell_type": "markdown",
      "metadata": {
        "colab_type": "text",
        "id": "1X_5F4CqZlni"
      },
      "source": [
        "##  Data Visualization"
      ]
    },
    {
      "cell_type": "code",
      "metadata": {
        "colab_type": "code",
        "id": "Qn8cBhpjNYjw",
        "colab": {}
      },
      "source": [
        "df_new=df_train.loc[(df_train['price']<50)] #selecting those rows where price of the wine is below 50 and ratings are above 89 \n",
        "df_new=df_new.loc[(df_new['points']>=90)] "
      ],
      "execution_count": 0,
      "outputs": []
    },
    {
      "cell_type": "code",
      "metadata": {
        "colab_type": "code",
        "id": "Oj_kIbTlaln0",
        "outputId": "b7a27e4e-3bde-4a11-afff-6e9127bc2119",
        "colab": {
          "base_uri": "https://localhost:8080/",
          "height": 510
        }
      },
      "source": [
        "df_new['variety'].value_counts()"
      ],
      "execution_count": 10,
      "outputs": [
        {
          "output_type": "execute_result",
          "data": {
            "text/plain": [
              "Pinot Noir                    2284\n",
              "Chardonnay                    2195\n",
              "Riesling                      1540\n",
              "Red Blend                     1467\n",
              "Cabernet Sauvignon            1161\n",
              "Syrah                         1113\n",
              "Sauvignon Blanc                879\n",
              "Bordeaux-style Red Blend       879\n",
              "Zinfandel                      674\n",
              "Portuguese Red                 564\n",
              "Grüner Veltliner               478\n",
              "Malbec                         458\n",
              "Rosé                           434\n",
              "Merlot                         395\n",
              "Rhône-style Red Blend          378\n",
              "Sparkling Blend                352\n",
              "Pinot Gris                     351\n",
              "White Blend                    331\n",
              "Sangiovese                     295\n",
              "Nebbiolo                       293\n",
              "Cabernet Franc                 268\n",
              "Gewürztraminer                 253\n",
              "Tempranillo                    225\n",
              "Gamay                          195\n",
              "Portuguese White               133\n",
              "Champagne Blend                 97\n",
              "Bordeaux-style White Blend      93\n",
              "Pinot Grigio                    62\n",
              "Name: variety, dtype: int64"
            ]
          },
          "metadata": {
            "tags": []
          },
          "execution_count": 10
        }
      ]
    },
    {
      "cell_type": "markdown",
      "metadata": {
        "colab_type": "text",
        "id": "jy7YxCGZa7nl"
      },
      "source": [
        "## Selecting the top 3 type of bugdet-friendly wines having the best ratings."
      ]
    },
    {
      "cell_type": "code",
      "metadata": {
        "colab_type": "code",
        "id": "mK3yJQT6L8g8",
        "colab": {}
      },
      "source": [
        "bf=df_new['variety'].value_counts()[:3] "
      ],
      "execution_count": 0,
      "outputs": []
    },
    {
      "cell_type": "code",
      "metadata": {
        "colab_type": "code",
        "id": "_FTObCIJL8N8",
        "outputId": "3142f8d5-2cf0-47d6-ca41-e9dc6c1caed7",
        "colab": {
          "base_uri": "https://localhost:8080/",
          "height": 424
        }
      },
      "source": [
        "t=df_train['variety'].value_counts()\n",
        "fig,axes = plt.subplots(nrows=1,ncols=2,figsize=(12,6))\n",
        "bf.plot(kind='pie',subplots=True,autopct='%1.1f%%',shadow=True,startangle=90,ax=axes[1])\n",
        "t.plot(kind='barh',width=0.5,subplots=True,ax=axes[0])"
      ],
      "execution_count": 12,
      "outputs": [
        {
          "output_type": "execute_result",
          "data": {
            "text/plain": [
              "array([<matplotlib.axes._subplots.AxesSubplot object at 0x7f24a2cf7a20>],\n",
              "      dtype=object)"
            ]
          },
          "metadata": {
            "tags": []
          },
          "execution_count": 12
        },
        {
          "output_type": "display_data",
          "data": {
            "image/png": "[encoded data removed]",
            "text/plain": [
              "<Figure size 864x432 with 2 Axes>"
            ]
          },
          "metadata": {
            "tags": [],
            "needs_background": "light"
          }
        }
      ]
    },
    {
      "cell_type": "markdown",
      "metadata": {
        "colab_type": "text",
        "id": "0Zys8JIELH-7"
      },
      "source": [
        "## Combining train and test datasets"
      ]
    },
    {
      "cell_type": "code",
      "metadata": {
        "colab_type": "code",
        "id": "XVRbnbeoxuG1",
        "colab": {}
      },
      "source": [
        "df=pd.concat([df_train,df_test])"
      ],
      "execution_count": 0,
      "outputs": []
    },
    {
      "cell_type": "code",
      "metadata": {
        "colab_type": "code",
        "id": "4QIJgpwUiXtF",
        "outputId": "cc91d036-7b9d-42bb-f6e3-ee3696fd10b2",
        "colab": {
          "base_uri": "https://localhost:8080/",
          "height": 34
        }
      },
      "source": [
        "len(df)"
      ],
      "execution_count": 14,
      "outputs": [
        {
          "output_type": "execute_result",
          "data": {
            "text/plain": [
              "103322"
            ]
          },
          "metadata": {
            "tags": []
          },
          "execution_count": 14
        }
      ]
    },
    {
      "cell_type": "code",
      "metadata": {
        "colab_type": "code",
        "id": "PEdPzfx27FDQ",
        "outputId": "82f3a688-ff19-44ac-b109-0a45e7630e4e",
        "colab": {
          "base_uri": "https://localhost:8080/",
          "height": 513
        }
      },
      "source": [
        "df.head()"
      ],
      "execution_count": 15,
      "outputs": [
        {
          "output_type": "execute_result",
          "data": {
            "text/html": [
              "<div>\n",
              "<style scoped>\n",
              "    .dataframe tbody tr th:only-of-type {\n",
              "        vertical-align: middle;\n",
              "    }\n",
              "\n",
              "    .dataframe tbody tr th {\n",
              "        vertical-align: top;\n",
              "    }\n",
              "\n",
              "    .dataframe thead th {\n",
              "        text-align: right;\n",
              "    }\n",
              "</style>\n",
              "<table border=\"1\" class=\"dataframe\">\n",
              "  <thead>\n",
              "    <tr style=\"text-align: right;\">\n",
              "      <th></th>\n",
              "      <th>user_name</th>\n",
              "      <th>country</th>\n",
              "      <th>review_title</th>\n",
              "      <th>review_description</th>\n",
              "      <th>designation</th>\n",
              "      <th>points</th>\n",
              "      <th>price</th>\n",
              "      <th>province</th>\n",
              "      <th>region_1</th>\n",
              "      <th>region_2</th>\n",
              "      <th>winery</th>\n",
              "      <th>variety</th>\n",
              "    </tr>\n",
              "  </thead>\n",
              "  <tbody>\n",
              "    <tr>\n",
              "      <th>0</th>\n",
              "      <td>NaN</td>\n",
              "      <td>Australia</td>\n",
              "      <td>Andrew Peace 2007 Peace Family Vineyard Chardo...</td>\n",
              "      <td>Classic Chardonnay aromas of apple, pear and h...</td>\n",
              "      <td>Peace Family Vineyard</td>\n",
              "      <td>83</td>\n",
              "      <td>10.0</td>\n",
              "      <td>Australia Other</td>\n",
              "      <td>South Eastern Australia</td>\n",
              "      <td>NaN</td>\n",
              "      <td>Andrew Peace</td>\n",
              "      <td>Chardonnay</td>\n",
              "    </tr>\n",
              "    <tr>\n",
              "      <th>1</th>\n",
              "      <td>@wawinereport</td>\n",
              "      <td>US</td>\n",
              "      <td>North by Northwest 2014 Red (Columbia Valley (...</td>\n",
              "      <td>This wine is near equal parts Syrah and Merlot...</td>\n",
              "      <td>NaN</td>\n",
              "      <td>89</td>\n",
              "      <td>15.0</td>\n",
              "      <td>Washington</td>\n",
              "      <td>Columbia Valley (WA)</td>\n",
              "      <td>Columbia Valley</td>\n",
              "      <td>North by Northwest</td>\n",
              "      <td>Red Blend</td>\n",
              "    </tr>\n",
              "    <tr>\n",
              "      <th>2</th>\n",
              "      <td>NaN</td>\n",
              "      <td>Italy</td>\n",
              "      <td>Renato Ratti 2007 Conca  (Barolo)</td>\n",
              "      <td>Barolo Conca opens with inky dark concentratio...</td>\n",
              "      <td>Conca</td>\n",
              "      <td>94</td>\n",
              "      <td>80.0</td>\n",
              "      <td>Piedmont</td>\n",
              "      <td>Barolo</td>\n",
              "      <td>NaN</td>\n",
              "      <td>Renato Ratti</td>\n",
              "      <td>Nebbiolo</td>\n",
              "    </tr>\n",
              "    <tr>\n",
              "      <th>3</th>\n",
              "      <td>@vossroger</td>\n",
              "      <td>France</td>\n",
              "      <td>Domaine l'Ancienne Cure 2010 L'Abbaye White (B...</td>\n",
              "      <td>It's impressive what a small addition of Sauvi...</td>\n",
              "      <td>L'Abbaye</td>\n",
              "      <td>87</td>\n",
              "      <td>22.0</td>\n",
              "      <td>Southwest France</td>\n",
              "      <td>Bergerac Sec</td>\n",
              "      <td>NaN</td>\n",
              "      <td>Domaine l'Ancienne Cure</td>\n",
              "      <td>Bordeaux-style White Blend</td>\n",
              "    </tr>\n",
              "    <tr>\n",
              "      <th>4</th>\n",
              "      <td>@vossroger</td>\n",
              "      <td>France</td>\n",
              "      <td>Château du Cèdre 2012 Le Cèdre Vintage Malbec ...</td>\n",
              "      <td>This ripe, sweet wine is rich and full of drie...</td>\n",
              "      <td>Le Cèdre Vintage</td>\n",
              "      <td>88</td>\n",
              "      <td>33.0</td>\n",
              "      <td>France Other</td>\n",
              "      <td>Vin de Liqueur</td>\n",
              "      <td>NaN</td>\n",
              "      <td>Château du Cèdre</td>\n",
              "      <td>Malbec</td>\n",
              "    </tr>\n",
              "  </tbody>\n",
              "</table>\n",
              "</div>"
            ],
            "text/plain": [
              "       user_name  ...                     variety\n",
              "0            NaN  ...                  Chardonnay\n",
              "1  @wawinereport  ...                   Red Blend\n",
              "2            NaN  ...                    Nebbiolo\n",
              "3     @vossroger  ...  Bordeaux-style White Blend\n",
              "4     @vossroger  ...                      Malbec\n",
              "\n",
              "[5 rows x 12 columns]"
            ]
          },
          "metadata": {
            "tags": []
          },
          "execution_count": 15
        }
      ]
    },
    {
      "cell_type": "markdown",
      "metadata": {
        "colab_type": "text",
        "id": "hQqBDDRvR9EV"
      },
      "source": [
        "## Feature and target selection"
      ]
    },
    {
      "cell_type": "code",
      "metadata": {
        "colab_type": "code",
        "id": "yLUWTcpzxuG9",
        "colab": {}
      },
      "source": [
        "y=df['variety'].values\n",
        "y=y[:len(df_train)]\n",
        "X=df['review_description'].values"
      ],
      "execution_count": 0,
      "outputs": []
    },
    {
      "cell_type": "markdown",
      "metadata": {
        "colab_type": "text",
        "id": "8oSyoMANTAVt"
      },
      "source": [
        "## Label Encoding target variable"
      ]
    },
    {
      "cell_type": "code",
      "metadata": {
        "colab_type": "code",
        "id": "9t1VSncLxuHE",
        "colab": {}
      },
      "source": [
        "le=LabelEncoder()\n",
        "le=le.fit_transform(y)"
      ],
      "execution_count": 0,
      "outputs": []
    },
    {
      "cell_type": "markdown",
      "metadata": {
        "colab_type": "text",
        "id": "D5PBBbh-Ta6I"
      },
      "source": [
        "## Data Pre-processing\n",
        "## Cleaning data-1 "
      ]
    },
    {
      "cell_type": "code",
      "metadata": {
        "colab_type": "code",
        "id": "glxQUNeSj6MZ",
        "colab": {}
      },
      "source": [
        "toktok=ToktokTokenizer()\n",
        "for i in range(len(X)):\n",
        "    words=[]\n",
        "    token=toktok.tokenize(X[i])  #Converting to tokens\n",
        "    for j in token:\n",
        "        j=j.lower()              #Converting each token to lower form\n",
        "        if(j not in nltk.corpus.stopwords.words('english')):  #Removing stopwords\n",
        "            if(j.isalpha()):       #Removing punctuations,special characters,numbers,etc and keeping only character tokens\n",
        "              words.append(j)\n",
        "    X[i]=\" \".join(words)         "
      ],
      "execution_count": 0,
      "outputs": []
    },
    {
      "cell_type": "markdown",
      "metadata": {
        "colab_type": "text",
        "id": "uMvOK0CZU2Ly"
      },
      "source": [
        "## Cleaning data-2"
      ]
    },
    {
      "cell_type": "code",
      "metadata": {
        "colab_type": "code",
        "id": "5ulfkFifxuI9",
        "colab": {}
      },
      "source": [
        "wl=WordNetLemmatizer()\n",
        "for i in range(len(X)):\n",
        "    review=' '.join([wl.lemmatize(j) for j in X[i].split()]) #Lemitization\n",
        "    X[i]=review"
      ],
      "execution_count": 0,
      "outputs": []
    },
    {
      "cell_type": "markdown",
      "metadata": {
        "colab_type": "text",
        "id": "ZemWXS3sVZKp"
      },
      "source": [
        "## We will use data from the train dataset to train our model"
      ]
    },
    {
      "cell_type": "markdown",
      "metadata": {
        "colab_type": "text",
        "id": "4U-w7DdJVsO7"
      },
      "source": [
        "## Spliting our data into training and testing data"
      ]
    },
    {
      "cell_type": "code",
      "metadata": {
        "colab_type": "code",
        "id": "Rh1x0_IRxuJf",
        "colab": {}
      },
      "source": [
        "X_train, X_test, y_train, y_test = train_test_split( X[:len(df_train)], y, test_size=0.33, random_state=42)"
      ],
      "execution_count": 0,
      "outputs": []
    },
    {
      "cell_type": "markdown",
      "metadata": {
        "colab_type": "text",
        "id": "b28VYRo0V5I9"
      },
      "source": [
        "## Transforming text to feature vectors"
      ]
    },
    {
      "cell_type": "code",
      "metadata": {
        "colab_type": "code",
        "id": "75ux6PlKDQbW",
        "colab": {}
      },
      "source": [
        "tf=TfidfVectorizer()\n",
        "X_train=tf.fit_transform(X_train)\n",
        "X_test=tf.transform(X_test)"
      ],
      "execution_count": 0,
      "outputs": []
    },
    {
      "cell_type": "markdown",
      "metadata": {
        "colab_type": "text",
        "id": "u-U0jpdIWvTl"
      },
      "source": [
        "## Training our model\n"
      ]
    },
    {
      "cell_type": "markdown",
      "metadata": {
        "colab_type": "text",
        "id": "whv-mEpuW0JD"
      },
      "source": [
        "## 1)Logistic Regression"
      ]
    },
    {
      "cell_type": "code",
      "metadata": {
        "colab_type": "code",
        "id": "pTm3Vmo0FnLt",
        "outputId": "6c36edf6-1c41-4187-c6ff-c33ed8678f0a",
        "colab": {
          "base_uri": "https://localhost:8080/",
          "height": 34
        }
      },
      "source": [
        "lr=LogisticRegression(penalty='l2',random_state=42 ,max_iter=500)\n",
        "lr.fit(X_train,y_train)\n",
        "lr.score(X_test,y_test)"
      ],
      "execution_count": 24,
      "outputs": [
        {
          "output_type": "execute_result",
          "data": {
            "text/plain": [
              "0.6640393005095868"
            ]
          },
          "metadata": {
            "tags": []
          },
          "execution_count": 24
        }
      ]
    },
    {
      "cell_type": "markdown",
      "metadata": {
        "colab_type": "text",
        "id": "ak7RIBssXISt"
      },
      "source": [
        "## 2)Adaboost Classifier"
      ]
    },
    {
      "cell_type": "code",
      "metadata": {
        "colab_type": "code",
        "id": "QyroPaoLFWVF",
        "outputId": "c73614ef-deb9-4b22-f3b5-5d36037ae47e",
        "colab": {
          "base_uri": "https://localhost:8080/",
          "height": 34
        }
      },
      "source": [
        "ad = AdaBoostClassifier(n_estimators=100)\n",
        "ad.fit(X_train,y_train)\n",
        "ad.score(X_test,y_test)"
      ],
      "execution_count": 25,
      "outputs": [
        {
          "output_type": "execute_result",
          "data": {
            "text/plain": [
              "0.45866480917989516"
            ]
          },
          "metadata": {
            "tags": []
          },
          "execution_count": 25
        }
      ]
    },
    {
      "cell_type": "markdown",
      "metadata": {
        "colab_type": "text",
        "id": "XKyaMjB7XhHt"
      },
      "source": [
        "## Logistic Regression is giving the best accuracy"
      ]
    },
    {
      "cell_type": "markdown",
      "metadata": {
        "colab_type": "text",
        "id": "UKHP2HfDXyFx"
      },
      "source": [
        "## Classification Report for Logistic Regression model"
      ]
    },
    {
      "cell_type": "code",
      "metadata": {
        "colab_type": "code",
        "id": "rbDqelgJX8mj",
        "colab": {}
      },
      "source": [
        "y_predict=lr.predict(X_test)"
      ],
      "execution_count": 0,
      "outputs": []
    },
    {
      "cell_type": "code",
      "metadata": {
        "colab_type": "code",
        "id": "csGPBQjk1CdM",
        "outputId": "80c5647a-13ae-49e4-cd92-96afcf7de88d",
        "colab": {
          "base_uri": "https://localhost:8080/",
          "height": 612
        }
      },
      "source": [
        "lr_report=classification_report(y_test,y_predict)\n",
        "print(lr_report)"
      ],
      "execution_count": 27,
      "outputs": [
        {
          "output_type": "stream",
          "text": [
            "                            precision    recall  f1-score   support\n",
            "\n",
            "  Bordeaux-style Red Blend       0.64      0.71      0.67      1881\n",
            "Bordeaux-style White Blend       0.65      0.29      0.40       270\n",
            "            Cabernet Franc       0.73      0.19      0.30       350\n",
            "        Cabernet Sauvignon       0.56      0.72      0.63      2491\n",
            "           Champagne Blend       0.77      0.44      0.56       367\n",
            "                Chardonnay       0.66      0.90      0.76      3107\n",
            "                     Gamay       0.76      0.41      0.54       266\n",
            "            Gewürztraminer       0.80      0.42      0.55       282\n",
            "          Grüner Veltliner       0.75      0.60      0.67       344\n",
            "                    Malbec       0.61      0.45      0.51       719\n",
            "                    Merlot       0.71      0.32      0.44       820\n",
            "                  Nebbiolo       0.78      0.78      0.78       765\n",
            "              Pinot Grigio       0.80      0.38      0.51       279\n",
            "                Pinot Gris       0.76      0.36      0.49       345\n",
            "                Pinot Noir       0.66      0.84      0.74      3536\n",
            "            Portuguese Red       0.59      0.62      0.61       601\n",
            "          Portuguese White       0.69      0.39      0.50       283\n",
            "                 Red Blend       0.64      0.64      0.64      2358\n",
            "     Rhône-style Red Blend       0.74      0.47      0.57       384\n",
            "                  Riesling       0.73      0.82      0.77      1364\n",
            "                      Rosé       0.70      0.69      0.69       933\n",
            "                Sangiovese       0.66      0.51      0.58       693\n",
            "           Sauvignon Blanc       0.70      0.69      0.69      1329\n",
            "           Sparkling Blend       0.78      0.60      0.68       592\n",
            "                     Syrah       0.64      0.53      0.58      1052\n",
            "               Tempranillo       0.59      0.37      0.45       476\n",
            "               White Blend       0.82      0.57      0.67       662\n",
            "                 Zinfandel       0.77      0.58      0.66       728\n",
            "\n",
            "                  accuracy                           0.66     27277\n",
            "                 macro avg       0.70      0.55      0.59     27277\n",
            "              weighted avg       0.67      0.66      0.65     27277\n",
            "\n"
          ],
          "name": "stdout"
        }
      ]
    },
    {
      "cell_type": "markdown",
      "metadata": {
        "colab_type": "text",
        "id": "vPVd0KkMYFrO"
      },
      "source": [
        "## Confusion Matrix for Logistic Regression model"
      ]
    },
    {
      "cell_type": "code",
      "metadata": {
        "colab_type": "code",
        "id": "QLGfIGK07G_U",
        "outputId": "94b9ae5a-94a8-46b0-835f-ba2edd491f4f",
        "colab": {
          "base_uri": "https://localhost:8080/",
          "height": 969
        }
      },
      "source": [
        "lr_cm=confusion_matrix(y_test,lr.predict(X_test))\n",
        "print(lr_cm)"
      ],
      "execution_count": 28,
      "outputs": [
        {
          "output_type": "stream",
          "text": [
            "[[1329    2    6  143    1   16    7    0    0    5   18    0    0    0\n",
            "    85   93    1  151    0    2   11    0    1    0    9    0    0    1]\n",
            " [  13   78    0    0    0  100    0    2    1    0    0    0    0    0\n",
            "     4    1    8    0    0    8   13    0   38    0    0    0    4    0]\n",
            " [  29    0   67  120    0    2    2    0    0    2    3    0    0    0\n",
            "    66    7    0   18    0    5    6    2    1    1   15    2    0    2]\n",
            " [  83    0    7 1805    0   21    0    0    1   52   34    0    0    0\n",
            "   242    0    0  118    0    0    5    4    2    0   68   20    0   29]\n",
            " [   3    1    0    2  161  101    0    0    0    0    0    0    0    1\n",
            "    17    1    0    2    0    7   40    0    5   26    0    0    0    0]\n",
            " [  18    2    0    7   19 2783    1    2    3    0    2    0    4    7\n",
            "    41    2   16    2    0   60   10    0   78   33    2    0   15    0]\n",
            " [  42    0    0    2    1    6  110    0    0    0    0    0    0    0\n",
            "    66   26    2    1    0    0   10    0    0    0    0    0    0    0]\n",
            " [   3    3    0    0    1   37    1  119    1    0    1    0    1    4\n",
            "     6    2    1    0    0   85    3    0    6    0    0    0    6    2]\n",
            " [   1    0    0    0    0   53    0    3  205    0    0    0    0    2\n",
            "     7    1    2    0    0   53    0    0   16    0    0    0    1    0]\n",
            " [  51    0    0  135    0   11    1    0    0  320    5    0    0    0\n",
            "    56   36    0   38    0    0    8    0    2    0   21   30    0    5]\n",
            " [  40    0    5  234    0   11    0    0    0   17  260    2    0    1\n",
            "   129    3    0   48    1    2    5    5    5    1   31    8    0   12]\n",
            " [   1    0    0   17    0    7    0    0    0    1    0  593    0    0\n",
            "    23    0    0   58    0    0    1   59    0    2    3    0    0    0]\n",
            " [   0    1    0    1    0   80    0    0    0    0    0    0  105    6\n",
            "     6    0    0    0    0   17    3    0   49    1    0    0    9    1]\n",
            " [   1    1    0    1    0  100    0    5   12    0    0    0    2  124\n",
            "    20    0    1    0    0   50    6    0   16    2    0    0    4    0]\n",
            " [ 145    1    2  129   11   42   14    1    1   13    5    1    0    2\n",
            "  2958   46    0   32    2    1   57    1    9   13   27   12    0   11]\n",
            " [ 144    0    0    3    0    6    4    0    0    1    1    0    0    0\n",
            "    48  373    1    6    0    0    9    0    2    0    2    0    0    1]\n",
            " [   4    6    0    0    3  114    0    3    2    0    0    0    0    0\n",
            "     1    6  111    1    0    4    6    0   15    2    0    0    5    0]\n",
            " [ 107    0    3  188    0    9    0    0    0   29   10   77    1    0\n",
            "   130   12    0 1510   34    1    7  101    3    0   55   41    1   39]\n",
            " [  12    0    0   27    0    2    0    0    0    0    3    1    0    0\n",
            "    53    4    0   63  181    0    3    0    0    0   29    1    0    5]\n",
            " [   2    1    0    3    1  129    0    3   30    0    0    0    0    8\n",
            "    19    2    0    0    0 1119    4    0   35    3    0    0    5    0]\n",
            " [  15    2    1    6    5   46    3    1    4    5    3    0    1    5\n",
            "    86    6    7   23   12   17  643    3   23    5    6    0    3    2]\n",
            " [   8    0    1   33    0    4    0    0    0    1    4   83    0    0\n",
            "    47    0    0  135    0    0   12  354    4    0    5    0    0    2]\n",
            " [   3   17    0    1    1  292    1    3    3    0    0    0    3    1\n",
            "     6    3    8    1    0   42   10    0  915    4    2    0   11    2]\n",
            " [   2    1    0    2    5   85    0    1    3    0    0    3    1    1\n",
            "    42    1    2    6    0   19   27    1   18  354    0    0   18    0]\n",
            " [  12    0    0  181    0    9    0    0    0   19    7    2    0    0\n",
            "   152    4    0   59   14    3    7    2    3    0  559    7    0   12]\n",
            " [   2    0    0   90    0    4    0    0    0   58    2    0    0    0\n",
            "    62    0    0   50    0    0    6    0    2    2   20  174    0    4]\n",
            " [   4    4    0    1    1  126    0    6    6    0    0    0   13    2\n",
            "     6    0    2    8    0   42    3    1   56    3    0    0  378    0]\n",
            " [   5    0    0  115    0    6    0    0    0    2    6    1    0    0\n",
            "   104    0    0   27    2    1    5    0    2    0   25    2    0  425]]\n"
          ],
          "name": "stdout"
        }
      ]
    },
    {
      "cell_type": "markdown",
      "metadata": {
        "colab_type": "text",
        "id": "EW9YmFWWYi1N"
      },
      "source": [
        "## Predicting the values of 'variety' column for test dataset using logistic regression"
      ]
    },
    {
      "cell_type": "code",
      "metadata": {
        "colab_type": "code",
        "id": "2FDVBv9z9R1g",
        "colab": {}
      },
      "source": [
        "X_output=X[len(df_train):]\n"
      ],
      "execution_count": 0,
      "outputs": []
    },
    {
      "cell_type": "code",
      "metadata": {
        "colab_type": "code",
        "id": "l6FztkWNY5LA",
        "colab": {}
      },
      "source": [
        "X_output=tf.transform(X_output)"
      ],
      "execution_count": 0,
      "outputs": []
    },
    {
      "cell_type": "code",
      "metadata": {
        "colab_type": "code",
        "id": "SyG8bXjNZCon",
        "colab": {}
      },
      "source": [
        "df_test['variety']=lr.predict(X_output)"
      ],
      "execution_count": 0,
      "outputs": []
    },
    {
      "cell_type": "code",
      "metadata": {
        "colab_type": "code",
        "id": "fWoQn0c6ZCki",
        "outputId": "72825cfa-8c36-4240-9a1b-2cf0106c65f3",
        "colab": {
          "base_uri": "https://localhost:8080/",
          "height": 479
        }
      },
      "source": [
        "df_test.head()"
      ],
      "execution_count": 32,
      "outputs": [
        {
          "output_type": "execute_result",
          "data": {
            "text/html": [
              "<div>\n",
              "<style scoped>\n",
              "    .dataframe tbody tr th:only-of-type {\n",
              "        vertical-align: middle;\n",
              "    }\n",
              "\n",
              "    .dataframe tbody tr th {\n",
              "        vertical-align: top;\n",
              "    }\n",
              "\n",
              "    .dataframe thead th {\n",
              "        text-align: right;\n",
              "    }\n",
              "</style>\n",
              "<table border=\"1\" class=\"dataframe\">\n",
              "  <thead>\n",
              "    <tr style=\"text-align: right;\">\n",
              "      <th></th>\n",
              "      <th>user_name</th>\n",
              "      <th>country</th>\n",
              "      <th>review_title</th>\n",
              "      <th>review_description</th>\n",
              "      <th>designation</th>\n",
              "      <th>points</th>\n",
              "      <th>price</th>\n",
              "      <th>province</th>\n",
              "      <th>region_1</th>\n",
              "      <th>region_2</th>\n",
              "      <th>winery</th>\n",
              "      <th>variety</th>\n",
              "    </tr>\n",
              "  </thead>\n",
              "  <tbody>\n",
              "    <tr>\n",
              "      <th>0</th>\n",
              "      <td>@paulgwine</td>\n",
              "      <td>US</td>\n",
              "      <td>Boedecker Cellars 2011 Athena Pinot Noir (Will...</td>\n",
              "      <td>Nicely differentiated from the companion Stewa...</td>\n",
              "      <td>Athena</td>\n",
              "      <td>88</td>\n",
              "      <td>35.0</td>\n",
              "      <td>Oregon</td>\n",
              "      <td>Willamette Valley</td>\n",
              "      <td>Willamette Valley</td>\n",
              "      <td>Boedecker Cellars</td>\n",
              "      <td>Pinot Noir</td>\n",
              "    </tr>\n",
              "    <tr>\n",
              "      <th>1</th>\n",
              "      <td>@wineschach</td>\n",
              "      <td>Argentina</td>\n",
              "      <td>Mendoza Vineyards 2012 Gran Reserva by Richard...</td>\n",
              "      <td>Charred, smoky, herbal aromas of blackberry tr...</td>\n",
              "      <td>Gran Reserva by Richard Bonvin</td>\n",
              "      <td>90</td>\n",
              "      <td>60.0</td>\n",
              "      <td>Mendoza Province</td>\n",
              "      <td>Mendoza</td>\n",
              "      <td>NaN</td>\n",
              "      <td>Mendoza Vineyards</td>\n",
              "      <td>Malbec</td>\n",
              "    </tr>\n",
              "    <tr>\n",
              "      <th>2</th>\n",
              "      <td>@vboone</td>\n",
              "      <td>US</td>\n",
              "      <td>Prime 2013 Chardonnay (Coombsville)</td>\n",
              "      <td>Slightly sour and funky in earth, this is a re...</td>\n",
              "      <td>NaN</td>\n",
              "      <td>87</td>\n",
              "      <td>38.0</td>\n",
              "      <td>California</td>\n",
              "      <td>Coombsville</td>\n",
              "      <td>Napa</td>\n",
              "      <td>Prime</td>\n",
              "      <td>Chardonnay</td>\n",
              "    </tr>\n",
              "    <tr>\n",
              "      <th>3</th>\n",
              "      <td>@wineschach</td>\n",
              "      <td>Argentina</td>\n",
              "      <td>Bodega Cuarto Dominio 2012 Chento Vineyard Sel...</td>\n",
              "      <td>This concentrated, midnight-black Malbec deliv...</td>\n",
              "      <td>Chento Vineyard Selection</td>\n",
              "      <td>91</td>\n",
              "      <td>20.0</td>\n",
              "      <td>Mendoza Province</td>\n",
              "      <td>Mendoza</td>\n",
              "      <td>NaN</td>\n",
              "      <td>Bodega Cuarto Dominio</td>\n",
              "      <td>Malbec</td>\n",
              "    </tr>\n",
              "    <tr>\n",
              "      <th>4</th>\n",
              "      <td>@kerinokeefe</td>\n",
              "      <td>Italy</td>\n",
              "      <td>SassodiSole 2012  Brunello di Montalcino</td>\n",
              "      <td>Earthy aromas suggesting grilled porcini, leat...</td>\n",
              "      <td>NaN</td>\n",
              "      <td>90</td>\n",
              "      <td>49.0</td>\n",
              "      <td>Tuscany</td>\n",
              "      <td>Brunello di Montalcino</td>\n",
              "      <td>NaN</td>\n",
              "      <td>SassodiSole</td>\n",
              "      <td>Sangiovese</td>\n",
              "    </tr>\n",
              "  </tbody>\n",
              "</table>\n",
              "</div>"
            ],
            "text/plain": [
              "      user_name    country  ...                 winery     variety\n",
              "0   @paulgwine          US  ...      Boedecker Cellars  Pinot Noir\n",
              "1   @wineschach  Argentina  ...      Mendoza Vineyards      Malbec\n",
              "2       @vboone         US  ...                  Prime  Chardonnay\n",
              "3   @wineschach  Argentina  ...  Bodega Cuarto Dominio      Malbec\n",
              "4  @kerinokeefe      Italy  ...            SassodiSole  Sangiovese\n",
              "\n",
              "[5 rows x 12 columns]"
            ]
          },
          "metadata": {
            "tags": []
          },
          "execution_count": 32
        }
      ]
    },
    {
      "cell_type": "code",
      "metadata": {
        "id": "h6WuUS1IoAWE",
        "colab_type": "code",
        "colab": {}
      },
      "source": [
        ""
      ],
      "execution_count": 0,
      "outputs": []
    }
  ]
}